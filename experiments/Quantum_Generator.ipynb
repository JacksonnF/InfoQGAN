{
 "cells": [
  {
   "cell_type": "code",
   "execution_count": 1,
   "metadata": {},
   "outputs": [],
   "source": [
    "import numpy as np\n",
    "import pennylane as qml"
   ]
  },
  {
   "cell_type": "markdown",
   "metadata": {},
   "source": [
    "Initial Ansatz circuit given in paper is extremely basic and straight forward. It seems like they use all the gates available to them to make a generic ansatz instead of utilizing a proper problem specific ansatz. Since they are only ustilizing 4 \n",
    "\n"
   ]
  },
  {
   "cell_type": "markdown",
   "metadata": {},
   "source": [
    "<img src=\"../images/ansatz model (from paper).png\" width=\"800px\">"
   ]
  },
  {
   "cell_type": "code",
   "execution_count": null,
   "metadata": {},
   "outputs": [],
   "source": [
    "number_of_qubits = 4\n",
    "number_of_reps = 5\n",
    "\n",
    "def generator(params):\n",
    "    #Generate random noise\n",
    "    z = np.random.uniform(-1, 1, number_of_qubits)\n",
    "\n",
    "    #Embedding layer\n",
    "    for i in range(number_of_qubits):\n",
    "        qml.RY(np.pi*z[i]/2, wires=i)\n",
    "    \n",
    "    num_params = 0\n",
    "    \n",
    "    for layer in range(number_of_reps):\n",
    "\n",
    "        #initial RX,Ry,RZ gates.\n",
    "        for i in range(number_of_qubits):\n",
    "            qml.RX(params[num_params], wires=i)\n",
    "            qml.RY(params[num_params+1], wires=i)\n",
    "            qml.RZ(params[num_params+2], wires=i)\n",
    "            num_params += 3\n",
    "\n",
    "        # Entangling block\n",
    "        for i in range(number_of_qubits):\n",
    "            qml.CNOT(wires=[i, (i+1)%number_of_qubits])\n",
    "\n",
    "    return [qml.expval(qml.PauliZ(i)) for i in range(2)]\n",
    "        \n",
    "    "
   ]
  }
 ],
 "metadata": {
  "kernelspec": {
   "display_name": "Python 3",
   "language": "python",
   "name": "python3"
  },
  "language_info": {
   "codemirror_mode": {
    "name": "ipython",
    "version": 3
   },
   "file_extension": ".py",
   "mimetype": "text/x-python",
   "name": "python",
   "nbconvert_exporter": "python",
   "pygments_lexer": "ipython3",
   "version": "3.9.undefined"
  }
 },
 "nbformat": 4,
 "nbformat_minor": 2
}
