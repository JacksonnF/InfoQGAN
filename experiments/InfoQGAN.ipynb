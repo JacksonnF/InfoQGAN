{
 "cells": [
  {
   "cell_type": "code",
   "execution_count": 6,
   "metadata": {},
   "outputs": [],
   "source": [
    "import torch\n",
    "import torch.nn as nn\n",
    "import torch.optim as optim\n",
    "from torch.autograd import Variable\n",
    "import pennylane as qml\n",
    "from  pennylane import numpy as np\n",
    "import pennylane_rigetti\n",
    "import matplotlib.pyplot as plt\n",
    "from IPython.display import clear_output\n",
    "from scipy.spatial import distance_matrix\n",
    "from scipy.stats import chisquare\n",
    "import plotly\n",
    "\n",
    "import numpy as npreal\n",
    "import wandb\n",
    "\n",
    "import ndtest\n",
    "\n",
    "from functools import partial\n"
   ]
  },
  {
   "cell_type": "markdown",
   "metadata": {},
   "source": [
    "### Model Definitions"
   ]
  },
  {
   "cell_type": "code",
   "execution_count": 7,
   "metadata": {},
   "outputs": [],
   "source": [
    "class Discriminator(nn.Module):\n",
    "    def __init__(self, input_size, hid_size) -> None:\n",
    "        super().__init__()\n",
    "        self.layers = nn.Sequential(\n",
    "            nn.Linear(input_size, hid_size),\n",
    "            nn.ReLU(),\n",
    "            nn.Linear(hid_size, hid_size),\n",
    "            nn.ReLU(),\n",
    "            nn.Linear(hid_size, 1),\n",
    "            nn.Sigmoid(),\n",
    "        )\n",
    "    def forward(self, x):\n",
    "        return self.layers(x)\n",
    "    def fit_discriminator(self, x_data, criterion, net_G, optimizer, input_size):\n",
    "        batch_size, _ = x_data.shape[0], x_data.shape[1]\n",
    "        x_rand = 2*torch.rand((batch_size, input_size))-1\n",
    "\n",
    "        self.zero_grad()\n",
    "\n",
    "        # Forward pass Discriminator on \"real\" data\n",
    "        labels_real = torch.ones((batch_size, 1)) * 0.9\n",
    "        outputs = self.forward(x_data)\n",
    "        loss_d_real = criterion(outputs, labels_real)\n",
    "\n",
    "        # Forward pass Discriminator with \"fake\" data from Generator\n",
    "        g = net_G(x_rand).detach() # Stop gradients from being updated in generator\n",
    "        labels_fk = torch.zeros((batch_size, 1)) + 0.1\n",
    "        outputs = self.forward(g)\n",
    "        loss_d_fake = criterion(outputs, labels_fk)\n",
    "\n",
    "        loss_d = loss_d_fake + loss_d_real\n",
    "        loss_d.backward() # Compute Gradients\n",
    "        optimizer.step() # Update Weights\n",
    "        return loss_d.item()\n",
    "    \n",
    "number_of_qubits = 5\n",
    "number_of_reps = 5\n",
    "\n",
    "dev = qml.device('default.qubit', wires=number_of_qubits)\n",
    "@qml.qnode(dev)\n",
    "def quantum_generator(inputs, params):\n",
    "    qml.AngleEmbedding(np.pi*inputs/2, rotation=\"Y\", wires=range(number_of_qubits))\n",
    "    num_params = 0\n",
    "    for layer in range(number_of_reps):\n",
    "        #initial RX,Ry,RZ gates.\n",
    "        for i in range(number_of_qubits):\n",
    "            qml.RX(params[num_params], wires=i)\n",
    "            qml.RY(params[num_params+1], wires=i)\n",
    "            qml.RZ(params[num_params+2], wires=i)\n",
    "            num_params += 3\n",
    "\n",
    "        # Entangling block\n",
    "        for i in range(number_of_qubits):\n",
    "            qml.CNOT(wires=[i, (i+1)%number_of_qubits])\n",
    "    return qml.probs(wires=0), qml.probs(wires=1)\n",
    "\n",
    "weights = {\"params\": 3 * number_of_qubits * number_of_reps}\n",
    "\n",
    "class Generator(nn.Module):\n",
    "    def __init__(self) -> None:\n",
    "        super().__init__()\n",
    "        self.q_gen = qml.qnn.TorchLayer(quantum_generator, weights)\n",
    "    def forward(self, x):\n",
    "        out = (4/np.pi)*torch.arcsin(torch.sqrt(self.q_gen(x)))-1/2\n",
    "        return out[:, [0, 2]]\n",
    "\n",
    "    def fit_generator(self, net_D, T, batch_size, input_size, criterion, optimizer, code_dim, beta):  \n",
    "        x_rand = 2*torch.rand((batch_size, input_size))-1\n",
    "        self.zero_grad()\n",
    "        \n",
    "        # Generate outputs With Generator and check if they fool Discriminator\n",
    "        labels_real = torch.ones((batch_size, 1)) * 0.9\n",
    "        g = self.forward(x_rand)\n",
    "        outputs = net_D(g)\n",
    "\n",
    "        loss_g = criterion(outputs, labels_real) # We want \"fake\" Generator output to look real  \n",
    "\n",
    "        # Compute the MINE loss term: -(E_pxy[T(x,y)] - log(E_pxpy[e^T(x,y)]))\n",
    "        # Note: term 1 uses joint pdf, term 2 uses marginal pdfs\n",
    "\n",
    "        x_marg = x_rand[torch.randperm(x_rand.size(0)), 0:code_dim]\n",
    "        mine = torch.mean(T(g, x_rand[:, 0:code_dim])) - torch.log(torch.mean(torch.exp(T(g, x_marg)))) \n",
    "        loss_g += -mine * beta\n",
    "\n",
    "        loss_g.backward()\n",
    "        optimizer.step()\n",
    "        \n",
    "        return loss_g.item()\n",
    "    \n",
    "class T(nn.Module):\n",
    "    def __init__(self, noise_dim, code_dim, hid_size) -> None:\n",
    "        super().__init__()\n",
    "        self.layers = nn.Sequential(\n",
    "            nn.Linear(code_dim + noise_dim, hid_size),\n",
    "            nn.ReLU(),\n",
    "            nn.Linear(hid_size, hid_size),\n",
    "            nn.ReLU(),\n",
    "            nn.Linear(hid_size, 1)\n",
    "        )\n",
    "    def forward(self, gen, codes):\n",
    "        return self.layers(torch.cat((gen, codes), dim=1))\n",
    "    def fit_t(self, net_G, batch_size, input_size, code_dim, optimizer):\n",
    "        x_rand = 2*torch.rand((batch_size, input_size))-1\n",
    "        self.zero_grad()\n",
    "\n",
    "        # Compute loss following similar logic to MINE term in generator loss\n",
    "        with torch.no_grad():\n",
    "            g = net_G(x_rand)\n",
    "        \n",
    "        T_out = self.forward(g, x_rand[:, 0:code_dim])\n",
    "        x_marg = x_rand[torch.randperm(x_rand.size(0)), 0:code_dim]\n",
    "\n",
    "        t_loss = -(torch.mean(T_out) - torch.log(torch.mean(torch.exp(self.forward(g, x_marg)))))\n",
    "        t_loss.backward()\n",
    "        optimizer.step()\n",
    "\n",
    "        return t_loss.item()\n"
   ]
  },
  {
   "cell_type": "markdown",
   "metadata": {},
   "source": [
    "### Dataset Generation"
   ]
  },
  {
   "cell_type": "code",
   "execution_count": 65,
   "metadata": {},
   "outputs": [
    {
     "name": "stderr",
     "output_type": "stream",
     "text": [
      "WARNING - No artists with labels found to put in legend.  Note that artists whose label start with an underscore are ignored when legend() is called with no argument.\n"
     ]
    },
    {
     "data": {
      "image/png": "[encoded data removed]",
      "text/plain": [
       "<Figure size 400x400 with 1 Axes>"
      ]
     },
     "metadata": {},
     "output_type": "display_data"
    }
   ],
   "source": [
    "N_points = 2000 # From paper\n",
    "\n",
    "np.random.seed(0)\n",
    "\n",
    "x = np.random.uniform(low=0.25, high=0.75, size=N_points)\n",
    "y = np.random.uniform(low=0.25, high=0.75, size=N_points)\n",
    "\n",
    "# Plot the data\n",
    "plt.figure(figsize=(4, 4))\n",
    "plt.scatter(x, y, alpha=1, s=10)\n",
    "plt.xlim(0, 1)\n",
    "plt.ylim(0, 1)\n",
    "plt.xlabel('x')\n",
    "plt.ylabel('y')\n",
    "plt.title(\"Central Square Distribution (2000 points)\")\n",
    "plt.gca().set_aspect('equal', adjustable='box')  # Make the plot square\n",
    "plt.legend()\n",
    "plt.show()\n",
    "\n",
    "# Plot test data\n",
    "def plot_xy(x_pts, y_pts):\n",
    "    plt.figure(figsize=(4, 4))\n",
    "    plt.scatter(x_pts, y_pts, alpha=1, s=10)\n",
    "    plt.xlim(0, 1)\n",
    "    plt.ylim(0, 1)\n",
    "    plt.xlabel('x')\n",
    "    plt.ylabel('y')\n",
    "    plt.title(\"Test Generator Output\")\n",
    "    plt.gca().set_aspect('equal', adjustable='box')  # Make the plot square\n",
    "    plt.legend()\n",
    "    plt.show()\n",
    "    return plt.figure()"
   ]
  },
  {
   "cell_type": "code",
   "execution_count": 66,
   "metadata": {},
   "outputs": [],
   "source": [
    "from torch.utils.data import Dataset, DataLoader\n",
    "\n",
    "class XYDistribution(Dataset):\n",
    "    def __init__(self, x, y):\n",
    "        self.x = torch.tensor(x, dtype=torch.float32)\n",
    "        self.y = torch.tensor(y, dtype=torch.float32)\n",
    "        \n",
    "    def __len__(self):\n",
    "        return len(self.x)\n",
    "    \n",
    "    def __getitem__(self, idx):\n",
    "        return torch.stack((self.x[idx], self.y[idx]))"
   ]
  },
  {
   "cell_type": "code",
   "execution_count": 67,
   "metadata": {},
   "outputs": [],
   "source": [
    "def boundary_adherence(points, center=(0.5, 0.5), side_length=0.5):\n",
    "    x_min, y_min = center[0] - side_length / 2, center[1] - side_length / 2\n",
    "    x_max, y_max = center[0] + side_length / 2, center[1] + side_length / 2\n",
    "\n",
    "    within_bounds = ((points[:, 0] >= x_min) & (points[:, 0] <= x_max) &\n",
    "                     (points[:, 1] >= y_min) & (points[:, 1] <= y_max))\n",
    "    adherence_rate = np.mean(within_bounds) * 100  # Convert to percentage\n",
    "    return adherence_rate"
   ]
  },
  {
   "cell_type": "markdown",
   "metadata": {},
   "source": [
    "### Training"
   ]
  },
  {
   "cell_type": "code",
   "execution_count": 102,
   "metadata": {},
   "outputs": [],
   "source": [
    "noise_size = 3\n",
    "code_size = 2\n",
    "beta = 0.1\n",
    "\n",
    "net_D = Discriminator(2, 86)\n",
    "# compiled_D = torch.compile(net_D,mode='default')\n",
    "compiled_D = net_D\n",
    "net_G = Generator()\n",
    "compiled_G = net_G\n",
    "# compiled_G = torch.compile(net_G.forward,mode='default')\n",
    "net_T = T(2, code_size, 80)\n",
    "compiled_T = net_T\n",
    "# compiled_T = torch.compile(net_T,mode='default')\n",
    "\n",
    "batch_size = 80\n",
    "\n",
    "dataset = XYDistribution(x, y)\n",
    "dataloader = DataLoader(dataset, batch_size=batch_size)\n",
    "\n",
    "criterion = nn.BCELoss()\n",
    "\n",
    "# Create batch of latent vectors that we will use to visualize\n",
    "#  the progression of the generator\n",
    "fixed_noise = 2*torch.rand(1000, noise_size + code_size)-1\n",
    "\n",
    "lrd = 0.0003\n",
    "lrg = 0.001\n",
    "lrt = 0.001\n",
    "gamma_d = 0.85\n",
    "gamma_g = 0.7\n",
    "gamma_t = 0.7\n",
    "\n",
    "optimizer_D = optim.Adam(compiled_D.parameters(), lr=lrd)\n",
    "scheduler_D = optim.lr_scheduler.ExponentialLR(optimizer_D, gamma=gamma_d)\n",
    "optimizer_G = optim.Adam(compiled_G.parameters(), lr=lrg)\n",
    "scheduler_G = optim.lr_scheduler.ExponentialLR(optimizer_D, gamma=gamma_g)\n",
    "optimizer_T = optim.Adam(compiled_T.parameters(), lr=lrt)\n",
    "scheduler_T = optim.lr_scheduler.ExponentialLR(optimizer_D, gamma=gamma_t)"
   ]
  },
  {
   "cell_type": "code",
   "execution_count": 103,
   "metadata": {},
   "outputs": [
    {
     "name": "stderr",
     "output_type": "stream",
     "text": [
      "WARNING - No artists with labels found to put in legend.  Note that artists whose label start with an underscore are ignored when legend() is called with no argument.\n"
     ]
    },
    {
     "data": {
      "text/plain": [
       "<Figure size 640x480 with 0 Axes>"
      ]
     },
     "metadata": {},
     "output_type": "display_data"
    },
    {
     "data": {
      "image/png": "[encoded data removed]",
      "text/plain": [
       "<Figure size 400x400 with 1 Axes>"
      ]
     },
     "metadata": {},
     "output_type": "display_data"
    },
    {
     "name": "stdout",
     "output_type": "stream",
     "text": [
      "Epoch:  141\n",
      "Epoch:  142\n",
      "Epoch:  143\n",
      "Epoch:  144\n",
      "Epoch:  145\n",
      "Epoch:  146\n",
      "Epoch:  147\n",
      "Epoch:  148\n",
      "Epoch:  149\n",
      "Epoch:  150\n",
      "Epoch:  151\n",
      "Epoch:  152\n"
     ]
    },
    {
     "ename": "KeyboardInterrupt",
     "evalue": "",
     "output_type": "error",
     "traceback": [
      "\u001b[0;31m---------------------------------------------------------------------------\u001b[0m",
      "\u001b[0;31mKeyboardInterrupt\u001b[0m                         Traceback (most recent call last)",
      "Cell \u001b[0;32mIn[103], line 21\u001b[0m\n\u001b[1;32m     18\u001b[0m \u001b[38;5;28;01mfor\u001b[39;00m batch \u001b[38;5;129;01min\u001b[39;00m dataloader:\n\u001b[1;32m     19\u001b[0m     \u001b[38;5;66;03m# First Update Discriminator with batch of Real Data\u001b[39;00m\n\u001b[1;32m     20\u001b[0m     d_loss \u001b[38;5;241m=\u001b[39m compiled_D\u001b[38;5;241m.\u001b[39mfit_discriminator(batch, criterion, compiled_G, optimizer_D, noise_size\u001b[38;5;241m+\u001b[39mcode_size)\n\u001b[0;32m---> 21\u001b[0m     g_loss \u001b[38;5;241m=\u001b[39m \u001b[43mcompiled_G\u001b[49m\u001b[38;5;241;43m.\u001b[39;49m\u001b[43mfit_generator\u001b[49m\u001b[43m(\u001b[49m\u001b[43mcompiled_D\u001b[49m\u001b[43m,\u001b[49m\u001b[43m \u001b[49m\u001b[43mnet_T\u001b[49m\u001b[43m,\u001b[49m\u001b[43m \u001b[49m\u001b[43mbatch_size\u001b[49m\u001b[43m,\u001b[49m\u001b[43m \u001b[49m\u001b[43mnoise_size\u001b[49m\u001b[38;5;241;43m+\u001b[39;49m\u001b[43mcode_size\u001b[49m\u001b[43m,\u001b[49m\u001b[43m \u001b[49m\u001b[43mcriterion\u001b[49m\u001b[43m,\u001b[49m\u001b[43m \u001b[49m\u001b[43moptimizer_G\u001b[49m\u001b[43m,\u001b[49m\u001b[43m \u001b[49m\u001b[43mcode_size\u001b[49m\u001b[43m,\u001b[49m\u001b[43m \u001b[49m\u001b[43mbeta\u001b[49m\u001b[43m)\u001b[49m\n\u001b[1;32m     22\u001b[0m     t_loss \u001b[38;5;241m=\u001b[39m compiled_T\u001b[38;5;241m.\u001b[39mfit_t(compiled_G, batch_size, noise_size\u001b[38;5;241m+\u001b[39mcode_size, code_size, optimizer_T)\n\u001b[1;32m     24\u001b[0m     \u001b[38;5;66;03m# print(\"Batch done\")\u001b[39;00m\n",
      "Cell \u001b[0;32mIn[64], line 85\u001b[0m, in \u001b[0;36mGenerator.fit_generator\u001b[0;34m(self, net_D, T, batch_size, input_size, criterion, optimizer, code_dim, beta)\u001b[0m\n\u001b[1;32m     82\u001b[0m mine \u001b[38;5;241m=\u001b[39m torch\u001b[38;5;241m.\u001b[39mmean(T(g, x_rand[:, \u001b[38;5;241m0\u001b[39m:code_dim])) \u001b[38;5;241m-\u001b[39m torch\u001b[38;5;241m.\u001b[39mlog(torch\u001b[38;5;241m.\u001b[39mmean(torch\u001b[38;5;241m.\u001b[39mexp(T(g, x_marg)))) \n\u001b[1;32m     83\u001b[0m loss_g \u001b[38;5;241m+\u001b[39m\u001b[38;5;241m=\u001b[39m \u001b[38;5;241m-\u001b[39mmine \u001b[38;5;241m*\u001b[39m beta\n\u001b[0;32m---> 85\u001b[0m \u001b[43mloss_g\u001b[49m\u001b[38;5;241;43m.\u001b[39;49m\u001b[43mbackward\u001b[49m\u001b[43m(\u001b[49m\u001b[43m)\u001b[49m\n\u001b[1;32m     86\u001b[0m optimizer\u001b[38;5;241m.\u001b[39mstep()\n\u001b[1;32m     88\u001b[0m \u001b[38;5;28;01mreturn\u001b[39;00m loss_g\u001b[38;5;241m.\u001b[39mitem()\n",
      "File \u001b[0;32m~/anaconda3/envs/cpen400qproject/lib/python3.11/site-packages/torch/_tensor.py:522\u001b[0m, in \u001b[0;36mTensor.backward\u001b[0;34m(self, gradient, retain_graph, create_graph, inputs)\u001b[0m\n\u001b[1;32m    512\u001b[0m \u001b[38;5;28;01mif\u001b[39;00m has_torch_function_unary(\u001b[38;5;28mself\u001b[39m):\n\u001b[1;32m    513\u001b[0m     \u001b[38;5;28;01mreturn\u001b[39;00m handle_torch_function(\n\u001b[1;32m    514\u001b[0m         Tensor\u001b[38;5;241m.\u001b[39mbackward,\n\u001b[1;32m    515\u001b[0m         (\u001b[38;5;28mself\u001b[39m,),\n\u001b[0;32m   (...)\u001b[0m\n\u001b[1;32m    520\u001b[0m         inputs\u001b[38;5;241m=\u001b[39minputs,\n\u001b[1;32m    521\u001b[0m     )\n\u001b[0;32m--> 522\u001b[0m \u001b[43mtorch\u001b[49m\u001b[38;5;241;43m.\u001b[39;49m\u001b[43mautograd\u001b[49m\u001b[38;5;241;43m.\u001b[39;49m\u001b[43mbackward\u001b[49m\u001b[43m(\u001b[49m\n\u001b[1;32m    523\u001b[0m \u001b[43m    \u001b[49m\u001b[38;5;28;43mself\u001b[39;49m\u001b[43m,\u001b[49m\u001b[43m \u001b[49m\u001b[43mgradient\u001b[49m\u001b[43m,\u001b[49m\u001b[43m \u001b[49m\u001b[43mretain_graph\u001b[49m\u001b[43m,\u001b[49m\u001b[43m \u001b[49m\u001b[43mcreate_graph\u001b[49m\u001b[43m,\u001b[49m\u001b[43m \u001b[49m\u001b[43minputs\u001b[49m\u001b[38;5;241;43m=\u001b[39;49m\u001b[43minputs\u001b[49m\n\u001b[1;32m    524\u001b[0m \u001b[43m\u001b[49m\u001b[43m)\u001b[49m\n",
      "File \u001b[0;32m~/anaconda3/envs/cpen400qproject/lib/python3.11/site-packages/torch/autograd/__init__.py:266\u001b[0m, in \u001b[0;36mbackward\u001b[0;34m(tensors, grad_tensors, retain_graph, create_graph, grad_variables, inputs)\u001b[0m\n\u001b[1;32m    261\u001b[0m     retain_graph \u001b[38;5;241m=\u001b[39m create_graph\n\u001b[1;32m    263\u001b[0m \u001b[38;5;66;03m# The reason we repeat the same comment below is that\u001b[39;00m\n\u001b[1;32m    264\u001b[0m \u001b[38;5;66;03m# some Python versions print out the first line of a multi-line function\u001b[39;00m\n\u001b[1;32m    265\u001b[0m \u001b[38;5;66;03m# calls in the traceback and some print out the last line\u001b[39;00m\n\u001b[0;32m--> 266\u001b[0m \u001b[43mVariable\u001b[49m\u001b[38;5;241;43m.\u001b[39;49m\u001b[43m_execution_engine\u001b[49m\u001b[38;5;241;43m.\u001b[39;49m\u001b[43mrun_backward\u001b[49m\u001b[43m(\u001b[49m\u001b[43m  \u001b[49m\u001b[38;5;66;43;03m# Calls into the C++ engine to run the backward pass\u001b[39;49;00m\n\u001b[1;32m    267\u001b[0m \u001b[43m    \u001b[49m\u001b[43mtensors\u001b[49m\u001b[43m,\u001b[49m\n\u001b[1;32m    268\u001b[0m \u001b[43m    \u001b[49m\u001b[43mgrad_tensors_\u001b[49m\u001b[43m,\u001b[49m\n\u001b[1;32m    269\u001b[0m \u001b[43m    \u001b[49m\u001b[43mretain_graph\u001b[49m\u001b[43m,\u001b[49m\n\u001b[1;32m    270\u001b[0m \u001b[43m    \u001b[49m\u001b[43mcreate_graph\u001b[49m\u001b[43m,\u001b[49m\n\u001b[1;32m    271\u001b[0m \u001b[43m    \u001b[49m\u001b[43minputs\u001b[49m\u001b[43m,\u001b[49m\n\u001b[1;32m    272\u001b[0m \u001b[43m    \u001b[49m\u001b[43mallow_unreachable\u001b[49m\u001b[38;5;241;43m=\u001b[39;49m\u001b[38;5;28;43;01mTrue\u001b[39;49;00m\u001b[43m,\u001b[49m\n\u001b[1;32m    273\u001b[0m \u001b[43m    \u001b[49m\u001b[43maccumulate_grad\u001b[49m\u001b[38;5;241;43m=\u001b[39;49m\u001b[38;5;28;43;01mTrue\u001b[39;49;00m\u001b[43m,\u001b[49m\n\u001b[1;32m    274\u001b[0m \u001b[43m\u001b[49m\u001b[43m)\u001b[49m\n",
      "\u001b[0;31mKeyboardInterrupt\u001b[0m: "
     ]
    },
    {
     "data": {
      "text/plain": [
       "<Figure size 640x480 with 0 Axes>"
      ]
     },
     "metadata": {},
     "output_type": "display_data"
    }
   ],
   "source": [
    "d_error = []\n",
    "g_error = []\n",
    "t_error = []\n",
    "fk_prog = []\n",
    "best_p_value = -99\n",
    "\n",
    "wandb.init(\n",
    "    project='InfoQGAN',\n",
    "    config = {\n",
    "        \"Generator Architecture\": str(dict(net_G.named_modules())),\n",
    "        \"Discriminator Architecture\": str(dict(net_D.named_modules())),\n",
    "        \"T Architecture\": str(dict(net_T.named_modules())),\n",
    "        \"Batch Size\": batch_size\n",
    "    }\n",
    ")\n",
    "\n",
    "for _ in range(300):\n",
    "    for batch in dataloader:\n",
    "        # First Update Discriminator with batch of Real Data\n",
    "        d_loss = compiled_D.fit_discriminator(batch, criterion, compiled_G, optimizer_D, noise_size+code_size)\n",
    "        g_loss = compiled_G.fit_generator(compiled_D, net_T, batch_size, noise_size+code_size, criterion, optimizer_G, code_size, beta)\n",
    "        t_loss = compiled_T.fit_t(compiled_G, batch_size, noise_size+code_size, code_size, optimizer_T)\n",
    "\n",
    "        # print(\"Batch done\")\n",
    "        d_error.append(d_loss)\n",
    "        g_error.append(g_loss)\n",
    "        t_error.append(t_loss)\n",
    "        wandb.log({\"d_loss\": d_loss, \"g_loss\": g_loss, \"t_loss\": t_loss})\n",
    "    \n",
    "    print(\"Epoch: \", _)\n",
    "    with torch.no_grad():\n",
    "        fake = net_G(fixed_noise)\n",
    "        # print(fake.size())\n",
    "        acc = boundary_adherence(fake.detach().numpy())\n",
    "        P, D = ndtest.ks2d2s(x, y, fake[:, 0].detach().numpy(), fake[:, 1].detach().numpy(), extra=True)\n",
    "        if P > best_p_value:\n",
    "            best_p_value = P\n",
    "            torch.save(compiled_G.state_dict(), f'./models/run_72/pval{P}.pth')\n",
    "        wandb.log({\"Accuracy\": acc, \"KS Test p-value\": P, \"KS Test value\": D})\n",
    "        x_c1 = npreal.cov(fake[:, 0].detach().numpy(), fixed_noise[:, 0])[0][1]\n",
    "        x_c2 = npreal.cov(fake[:, 0].detach().numpy(), fixed_noise[:, 1])[0][1]\n",
    "        y_c1 = npreal.cov(fake[:, 1].detach().numpy(), fixed_noise[:, 0])[0][1]\n",
    "        y_c2 = npreal.cov(fake[:, 1].detach().numpy(), fixed_noise[:, 1])[0][1]\n",
    "        # print(x_c1)\n",
    "        wandb.log({\"Code 0 - X axis\": x_c1, \"Code 1 - X axis\": x_c2, \"Code 0 - Y axis\": y_c1, \"Code 1 - Y axis\": y_c2})\n",
    "        # print(P)\n",
    "\n",
    "    if _ % 20 == 0:\n",
    "        with torch.no_grad():\n",
    "            fake = net_G(fixed_noise)\n",
    "            clear_output(wait=True)\n",
    "            fig = plot_xy(fake[:, 0].detach().numpy(), fake[:, 1].detach().numpy())\n",
    "            # img = wandb.Image(fig)\n",
    "            # wandb.log({\"Generator Output\": img})\n",
    "\n",
    "wandb.finish()"
   ]
  },
  {
   "cell_type": "code",
   "execution_count": 97,
   "metadata": {},
   "outputs": [
    {
     "data": {
      "text/html": [
       "<style>\n",
       "    table.wandb td:nth-child(1) { padding: 0 10px; text-align: left ; width: auto;} td:nth-child(2) {text-align: left ; width: 100%}\n",
       "    .wandb-row { display: flex; flex-direction: row; flex-wrap: wrap; justify-content: flex-start; width: 100% }\n",
       "    .wandb-col { display: flex; flex-direction: column; flex-basis: 100%; flex: 1; padding: 10px; }\n",
       "    </style>\n",
       "<div class=\"wandb-row\"><div class=\"wandb-col\"><h3>Run history:</h3><br/><table class=\"wandb\"><tr><td>Accuracy</td><td>█▆▇▁▁▃▅▅▆▆▇▆▇▆▆▆▇▇▇▇▇▇▆▆▇▆▇▇▇▇▇▇▇▇▇▇███▇</td></tr><tr><td>Code 0 - X axis</td><td>▁▃▅▇▇█████▇████▇▇▇▇▇▇▇▇▇▇▇▇▇▇▇▇▇▇▇▇▇▇▇▇▇</td></tr><tr><td>Code 0 - Y axis</td><td>█▃▂▁▄▅▅▆▅▆▆▅▄▄▄▄▃▂▃▅▃▄▂▂▁▂▃▃▄▃▄▃▂▂▂▂▂▁▂▂</td></tr><tr><td>Code 1 - X axis</td><td>▃█▅▃▃▃▂▁▁▁▁▁▃▃▂▃▃▃▃▃▃▃▃▄▄▄▄▄▄▄▄▄▄▄▄▄▄▄▄▄</td></tr><tr><td>Code 1 - Y axis</td><td>▁▄▅██▇▆▆▆▆▆▆▆▆▇▇▆▆▆▆▆▇▇▇▇▇▇▇▆▇▇▇▇▇▇▇▇▆▆▇</td></tr><tr><td>KS Test p-value</td><td>▁▁▁▁▁▁▃▃▄▁▁█▂▂▂▁▁▃▁▂▂▁▁▁▁▂▁▁▂▁▁▁▁▁▁▁▁▁▁▁</td></tr><tr><td>KS Test value</td><td>█▆▄▃▃▂▁▁▁▂▂▁▂▂▂▂▂▁▂▂▂▂▂▂▂▂▂▃▂▂▃▂▃▂▂▂▂▃▂▂</td></tr><tr><td>d_loss</td><td>▆▆▆▇▆▅▆▇▆▆█▇▅▅▆▅▅▇▆▆▆▇▆▄▄▃▅▅▇▅▃▃▂▆▅▂▁▆▆▅</td></tr><tr><td>g_loss</td><td>█▇▆▆▄▃▄▄▅▄▅▅▄▅▄▃▃▃▄▁▄▂▄▃▂▁▂▂▃▄▄▄▄▄▃▄▄▄▂▃</td></tr><tr><td>t_loss</td><td>█▇▆▆▅▅▄▄▄▄▄▄▄▁▃▃▄▂▄▄▄▂▃▁▃▂▂▄▃▂▁▃▅▄▃▁▂▂▂▃</td></tr></table><br/></div><div class=\"wandb-col\"><h3>Run summary:</h3><br/><table class=\"wandb\"><tr><td>Accuracy</td><td>92.3</td></tr><tr><td>Code 0 - X axis</td><td>0.07646</td></tr><tr><td>Code 0 - Y axis</td><td>-0.01285</td></tr><tr><td>Code 1 - X axis</td><td>0.01778</td></tr><tr><td>Code 1 - Y axis</td><td>0.07781</td></tr><tr><td>KS Test p-value</td><td>0.00312</td></tr><tr><td>KS Test value</td><td>0.085</td></tr><tr><td>d_loss</td><td>1.38438</td></tr><tr><td>g_loss</td><td>0.49854</td></tr><tr><td>t_loss</td><td>-3.60432</td></tr></table><br/></div></div>"
      ],
      "text/plain": [
       "<IPython.core.display.HTML object>"
      ]
     },
     "metadata": {},
     "output_type": "display_data"
    },
    {
     "data": {
      "text/html": [
       " View run <strong style=\"color:#cdcd00\">royal-blaze-69</strong> at: <a href='https://wandb.ai/jacksonfraser55/InfoQGAN/runs/uk20z885' target=\"_blank\">https://wandb.ai/jacksonfraser55/InfoQGAN/runs/uk20z885</a><br/> View project at: <a href='https://wandb.ai/jacksonfraser55/InfoQGAN' target=\"_blank\">https://wandb.ai/jacksonfraser55/InfoQGAN</a><br/>Synced 6 W&B file(s), 0 media file(s), 0 artifact file(s) and 0 other file(s)"
      ],
      "text/plain": [
       "<IPython.core.display.HTML object>"
      ]
     },
     "metadata": {},
     "output_type": "display_data"
    },
    {
     "data": {
      "text/html": [
       "Find logs at: <code>./wandb/run-20240408_234347-uk20z885/logs</code>"
      ],
      "text/plain": [
       "<IPython.core.display.HTML object>"
      ]
     },
     "metadata": {},
     "output_type": "display_data"
    }
   ],
   "source": [
    "wandb.finish()"
   ]
  },
  {
   "cell_type": "code",
   "execution_count": 94,
   "metadata": {},
   "outputs": [],
   "source": [
    "torch.save(compiled_G.state_dict(), './models/royal-elevator-68.pth')"
   ]
  },
  {
   "cell_type": "code",
   "execution_count": 14,
   "metadata": {},
   "outputs": [
    {
     "ename": "NameError",
     "evalue": "name 'compiled_G' is not defined",
     "output_type": "error",
     "traceback": [
      "\u001b[0;31m---------------------------------------------------------------------------\u001b[0m",
      "\u001b[0;31mNameError\u001b[0m                                 Traceback (most recent call last)",
      "Cell \u001b[0;32mIn[14], line 5\u001b[0m\n\u001b[1;32m      1\u001b[0m rand_inp \u001b[38;5;241m=\u001b[39m \u001b[38;5;241m2\u001b[39m\u001b[38;5;241m*\u001b[39mtorch\u001b[38;5;241m.\u001b[39mrand((\u001b[38;5;241m2000\u001b[39m, \u001b[38;5;241m5\u001b[39m))\u001b[38;5;241m-\u001b[39m\u001b[38;5;241m1\u001b[39m\n\u001b[1;32m      2\u001b[0m \u001b[38;5;66;03m# m = Generator()\u001b[39;00m\n\u001b[1;32m      3\u001b[0m \u001b[38;5;66;03m# m.load_state_dict(torch.load('models/run_69/pval0.331949983981733.pth'))\u001b[39;00m\n\u001b[0;32m----> 5\u001b[0m gen_output \u001b[38;5;241m=\u001b[39m \u001b[43mcompiled_G\u001b[49m(rand_inp)\n\u001b[1;32m      7\u001b[0m x_test \u001b[38;5;241m=\u001b[39m gen_output[:, \u001b[38;5;241m0\u001b[39m]\u001b[38;5;241m.\u001b[39mdetach()\u001b[38;5;241m.\u001b[39mnumpy()\n\u001b[1;32m      8\u001b[0m y_test \u001b[38;5;241m=\u001b[39m gen_output[:, \u001b[38;5;241m1\u001b[39m]\u001b[38;5;241m.\u001b[39mdetach()\u001b[38;5;241m.\u001b[39mnumpy()\n",
      "\u001b[0;31mNameError\u001b[0m: name 'compiled_G' is not defined"
     ]
    }
   ],
   "source": [
    "rand_inp = 2*torch.rand((2000, 5))-1\n",
    "# m = Generator()\n",
    "# m.load_state_dict(torch.load('models/run_69/pval0.331949983981733.pth'))\n",
    "\n",
    "gen_output = compiled_G(rand_inp)\n",
    "\n",
    "x_test = gen_output[:, 0].detach().numpy()\n",
    "y_test = gen_output[:, 1].detach().numpy()\n",
    "\n",
    "# Plot test data\n",
    "def plot_xy_codes(x_pts, y_pts, code_index):\n",
    "    plt.figure(figsize=(4, 4))\n",
    "    plt.scatter(x_pts, y_pts, c=rand_inp[:, code_index], cmap='coolwarm', alpha=1, s=10)\n",
    "    plt.xlim(0, 1)\n",
    "    plt.ylim(0, 1)\n",
    "    plt.xlabel('x')\n",
    "    plt.ylabel('y')\n",
    "    plt.title(f\"Feature Seperation for Code {code_index}\")\n",
    "    plt.gca().set_aspect('equal', adjustable='box')  # Make the plot square\n",
    "    plt.legend()\n",
    "    plt.colorbar(label='Code Value')\n",
    "    plt.show()\n",
    "\n",
    "plot_xy_codes(gen_output[:, 0].detach().numpy(), gen_output[:, 1].detach().numpy(), 1)"
   ]
  }
 ],
 "metadata": {
  "kernelspec": {
   "display_name": "cpen400qproject",
   "language": "python",
   "name": "python3"
  },
  "language_info": {
   "codemirror_mode": {
    "name": "ipython",
    "version": 3
   },
   "file_extension": ".py",
   "mimetype": "text/x-python",
   "name": "python",
   "nbconvert_exporter": "python",
   "pygments_lexer": "ipython3",
   "version": "3.11.8"
  }
 },
 "nbformat": 4,
 "nbformat_minor": 2
}
