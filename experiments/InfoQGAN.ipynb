{
 "cells": [
  {
   "cell_type": "code",
   "execution_count": 1,
   "metadata": {},
   "outputs": [],
   "source": [
    "import torch\n",
    "import torch.nn as nn\n",
    "import torch.optim as optim\n",
    "from torch.autograd import Variable\n",
    "import pennylane as qml\n",
    "from  pennylane import numpy as np\n",
    "import pennylane_rigetti\n",
    "import matplotlib.pyplot as plt\n",
    "from IPython.display import clear_output\n",
    "from scipy.spatial import distance_matrix\n",
    "from scipy.stats import chisquare\n",
    "import plotly\n",
    "\n",
    "import wandb\n",
    "\n",
    "import ndtest\n",
    "\n",
    "from functools import partial\n"
   ]
  },
  {
   "cell_type": "markdown",
   "metadata": {},
   "source": [
    "### Model Definitions"
   ]
  },
  {
   "cell_type": "code",
   "execution_count": 8,
   "metadata": {},
   "outputs": [],
   "source": [
    "class Discriminator(nn.Module):\n",
    "    def __init__(self, input_size, hid_size) -> None:\n",
    "        super().__init__()\n",
    "        self.layers = nn.Sequential(\n",
    "            nn.Linear(input_size, hid_size),\n",
    "            nn.ReLU(),\n",
    "            nn.Linear(hid_size, hid_size),\n",
    "            nn.ReLU(),\n",
    "            nn.Linear(hid_size, 1),\n",
    "            nn.Sigmoid(),\n",
    "        )\n",
    "    def forward(self, x):\n",
    "        return self.layers(x)\n",
    "    def fit_discriminator(self, x_data, criterion, net_G, optimizer, input_size):\n",
    "        batch_size, _ = x_data.shape[0], x_data.shape[1]\n",
    "        x_rand = 2*torch.rand((batch_size, input_size))-1\n",
    "\n",
    "        self.zero_grad()\n",
    "\n",
    "        # Forward pass Discriminator on \"real\" data\n",
    "        labels_real = torch.ones((batch_size, 1)) * 0.9\n",
    "        outputs = self.forward(x_data)\n",
    "        loss_d_real = criterion(outputs, labels_real)\n",
    "\n",
    "        # Forward pass Discriminator with \"fake\" data from Generator\n",
    "        g = net_G(x_rand).detach() # Stop gradients from being updated in generator\n",
    "        labels_fk = torch.zeros((batch_size, 1)) + 0.1\n",
    "        outputs = self.forward(g)\n",
    "        loss_d_fake = criterion(outputs, labels_fk)\n",
    "\n",
    "        loss_d = loss_d_fake + loss_d_real\n",
    "        loss_d.backward() # Compute Gradients\n",
    "        optimizer.step() # Update Weights\n",
    "        return loss_d.item()\n",
    "    \n",
    "number_of_qubits = 5\n",
    "number_of_reps = 5\n",
    "\n",
    "dev = qml.device('lightning.qubit', wires=number_of_qubits)\n",
    "@qml.qnode(dev, interface=\"torch\")\n",
    "def quantum_generator(z, params):\n",
    "\n",
    "    #Embedding layer\n",
    "    for i in range(number_of_qubits):\n",
    "        qml.RY(np.pi*z[i]/2, wires=i)\n",
    "    \n",
    "    num_params = 0\n",
    "    \n",
    "    for layer in range(number_of_reps):\n",
    "\n",
    "        #initial RX,Ry,RZ gates.\n",
    "        for i in range(number_of_qubits):\n",
    "            qml.RX(params[num_params], wires=i)\n",
    "            qml.RY(params[num_params+1], wires=i)\n",
    "            qml.RZ(params[num_params+2], wires=i)\n",
    "            num_params += 3\n",
    "\n",
    "        # Entangling block\n",
    "        for i in range(number_of_qubits):\n",
    "            qml.CNOT(wires=[i, (i+1)%number_of_qubits])\n",
    "    l = [qml.probs(wires=i) for i in range(2)]\n",
    "    return l\n",
    "\n",
    "class Generator(nn.Module):\n",
    "    def __init__(self) -> None:\n",
    "        super().__init__()\n",
    "        self.params = Variable(torch.randn(number_of_qubits * number_of_reps * 3), requires_grad=True)\n",
    "    def forward(self, x):\n",
    "        l = []\n",
    "        for i in range(x.shape[0]):\n",
    "            q_out = quantum_generator(x[i, :], self.params)\n",
    "            f_el = [t[0].item() for t in q_out]\n",
    "            l.append(f_el)\n",
    "        out = (4/np.pi)*torch.arcsin(torch.sqrt(torch.tensor(l, dtype=torch.float32)))-1/2\n",
    "\n",
    "        return out\n",
    "\n",
    "    def fit_generator(self, net_D, T, batch_size, input_size, criterion, optimizer, code_dim, beta):  \n",
    "        x_rand = 2*torch.rand((batch_size, input_size))-1\n",
    "        self.zero_grad()\n",
    "        \n",
    "        # Generate outputs With Generator and check if they fool Discriminator\n",
    "        labels_real = torch.ones((batch_size, 1)) * 0.9\n",
    "        g = self.forward(x_rand)\n",
    "        outputs = net_D(g)\n",
    "\n",
    "        loss_g = criterion(outputs, labels_real) # We want \"fake\" Generator output to look real  \n",
    "\n",
    "        # Compute the MINE loss term: -(E_pxy[T(x,y)] - log(E_pxpy[e^T(x,y)]))\n",
    "        # Note: term 1 uses joint pdf, term 2 uses marginal pdfs\n",
    "\n",
    "        x_marg = x_rand[torch.randperm(x_rand.size(0)), 0:code_dim]\n",
    "        mine = torch.mean(T(g, x_rand[:, 0:code_dim])) - torch.log(torch.mean(torch.exp(T(g, x_marg)))) \n",
    "        loss_g += -mine * beta\n",
    "\n",
    "        loss_g.backward()\n",
    "        optimizer.step()\n",
    "        \n",
    "        return loss_g.item()\n",
    "    \n",
    "class T(nn.Module):\n",
    "    def __init__(self, noise_dim, code_dim, hid_size) -> None:\n",
    "        super().__init__()\n",
    "        self.layers = nn.Sequential(\n",
    "            nn.Linear(code_dim + noise_dim, hid_size),\n",
    "            nn.ReLU(),\n",
    "            nn.Linear(hid_size, hid_size),\n",
    "            nn.ReLU(),\n",
    "            nn.Linear(hid_size, 1)\n",
    "        )\n",
    "    def forward(self, gen, codes):\n",
    "        return self.layers(torch.cat((gen, codes), dim=1))\n",
    "    def fit_t(self, net_G, batch_size, input_size, code_dim, optimizer):\n",
    "        x_rand = 2*torch.rand((batch_size, input_size))-1\n",
    "        self.zero_grad()\n",
    "\n",
    "        # Compute loss following similar logic to MINE term in generator loss\n",
    "        with torch.no_grad():\n",
    "            g = net_G(x_rand)\n",
    "        \n",
    "        T_out = self.forward(g, x_rand[:, 0:code_dim])\n",
    "        x_marg = x_rand[torch.randperm(x_rand.size(0)), 0:code_dim]\n",
    "\n",
    "        t_loss = -(torch.mean(T_out) - torch.log(torch.mean(torch.exp(self.forward(g, x_marg)))))\n",
    "        t_loss.backward()\n",
    "        optimizer.step()\n",
    "\n",
    "        return t_loss.item()\n"
   ]
  },
  {
   "cell_type": "markdown",
   "metadata": {},
   "source": [
    "### Dataset Generation"
   ]
  },
  {
   "cell_type": "code",
   "execution_count": 9,
   "metadata": {},
   "outputs": [
    {
     "name": "stderr",
     "output_type": "stream",
     "text": [
      "WARNING - No artists with labels found to put in legend.  Note that artists whose label start with an underscore are ignored when legend() is called with no argument.\n"
     ]
    },
    {
     "data": {
      "image/png": "[encoded data removed]",
      "text/plain": [
       "<Figure size 400x400 with 1 Axes>"
      ]
     },
     "metadata": {},
     "output_type": "display_data"
    }
   ],
   "source": [
    "N_points = 2000 # From paper\n",
    "\n",
    "np.random.seed(0)\n",
    "\n",
    "x = np.random.uniform(low=0.25, high=0.75, size=N_points)\n",
    "y = np.random.uniform(low=0.25, high=0.75, size=N_points)\n",
    "\n",
    "# Plot the data\n",
    "plt.figure(figsize=(4, 4))\n",
    "plt.scatter(x, y, alpha=1, s=10)\n",
    "plt.xlim(0, 1)\n",
    "plt.ylim(0, 1)\n",
    "plt.xlabel('x')\n",
    "plt.ylabel('y')\n",
    "plt.title(\"Central Square Distribution (2000 points)\")\n",
    "plt.gca().set_aspect('equal', adjustable='box')  # Make the plot square\n",
    "plt.legend()\n",
    "plt.show()\n",
    "\n",
    "# Plot test data\n",
    "def plot_xy(x_pts, y_pts):\n",
    "    plt.figure(figsize=(4, 4))\n",
    "    plt.scatter(x_pts, y_pts, alpha=1, s=10)\n",
    "    plt.xlim(0, 1)\n",
    "    plt.ylim(0, 1)\n",
    "    plt.xlabel('x')\n",
    "    plt.ylabel('y')\n",
    "    plt.title(\"Test Generator Output\")\n",
    "    plt.gca().set_aspect('equal', adjustable='box')  # Make the plot square\n",
    "    plt.legend()\n",
    "    plt.show()\n",
    "    return plt.figure()"
   ]
  },
  {
   "cell_type": "code",
   "execution_count": 10,
   "metadata": {},
   "outputs": [],
   "source": [
    "from torch.utils.data import Dataset, DataLoader\n",
    "\n",
    "class XYDistribution(Dataset):\n",
    "    def __init__(self, x, y):\n",
    "        self.x = torch.tensor(x, dtype=torch.float32)\n",
    "        self.y = torch.tensor(y, dtype=torch.float32)\n",
    "        \n",
    "    def __len__(self):\n",
    "        return len(self.x)\n",
    "    \n",
    "    def __getitem__(self, idx):\n",
    "        return torch.stack((self.x[idx], self.y[idx]))"
   ]
  },
  {
   "cell_type": "code",
   "execution_count": 11,
   "metadata": {},
   "outputs": [],
   "source": [
    "def boundary_adherence(points, center=(0.5, 0.5), side_length=0.5):\n",
    "    x_min, y_min = center[0] - side_length / 2, center[1] - side_length / 2\n",
    "    x_max, y_max = center[0] + side_length / 2, center[1] + side_length / 2\n",
    "\n",
    "    within_bounds = ((points[:, 0] >= x_min) & (points[:, 0] <= x_max) &\n",
    "                     (points[:, 1] >= y_min) & (points[:, 1] <= y_max))\n",
    "    adherence_rate = np.mean(within_bounds) * 100  # Convert to percentage\n",
    "    return adherence_rate"
   ]
  },
  {
   "cell_type": "markdown",
   "metadata": {},
   "source": [
    "### Training"
   ]
  },
  {
   "cell_type": "code",
   "execution_count": 12,
   "metadata": {},
   "outputs": [],
   "source": [
    "noise_size = 3\n",
    "code_size = 2\n",
    "beta = 0.1\n",
    "\n",
    "net_D = Discriminator(2, 16)\n",
    "net_G = Generator()\n",
    "net_T = T(2, code_size, 12)\n",
    "\n",
    "batch_size = 40\n",
    "\n",
    "dataset = XYDistribution(x, y)\n",
    "dataloader = DataLoader(dataset, batch_size=batch_size)\n",
    "\n",
    "criterion = nn.BCELoss()\n",
    "\n",
    "# Create batch of latent vectors that we will use to visualize\n",
    "#  the progression of the generator\n",
    "fixed_noise = torch.rand(200, noise_size + code_size)\n",
    "\n",
    "lrd = 0.0003\n",
    "lrg = 0.001\n",
    "lrt = 0.001\n",
    "gamma_d = 0.85\n",
    "gamma_g = 0.7\n",
    "gamma_t = 0.7\n",
    "\n",
    "optimizer_D = optim.Adam(net_D.parameters(), lr=lrd)\n",
    "scheduler_D = optim.lr_scheduler.ExponentialLR(optimizer_D, gamma=gamma_d)\n",
    "optimizer_G = optim.Adam([net_G.params], lr=lrg)\n",
    "scheduler_G = optim.lr_scheduler.ExponentialLR(optimizer_D, gamma=gamma_g)\n",
    "optimizer_T = optim.Adam(net_T.parameters(), lr=lrt)\n",
    "scheduler_T = optim.lr_scheduler.ExponentialLR(optimizer_D, gamma=gamma_t)"
   ]
  },
  {
   "cell_type": "code",
   "execution_count": 13,
   "metadata": {},
   "outputs": [
    {
     "name": "stderr",
     "output_type": "stream",
     "text": [
      "WARNING - No artists with labels found to put in legend.  Note that artists whose label start with an underscore are ignored when legend() is called with no argument.\n"
     ]
    },
    {
     "data": {
      "image/png": "[encoded data removed]",
      "text/plain": [
       "<Figure size 400x400 with 1 Axes>"
      ]
     },
     "metadata": {},
     "output_type": "display_data"
    },
    {
     "name": "stderr",
     "output_type": "stream",
     "text": [
      "Exception ignored in: <bound method IPythonKernel._clean_thread_parent_frames of <ipykernel.ipkernel.IPythonKernel object at 0x105ea3310>>\n",
      "Traceback (most recent call last):\n",
      "  File \"/Users/jacksonfraser/anaconda3/envs/cpen400qproject/lib/python3.11/site-packages/ipykernel/ipkernel.py\", line 770, in _clean_thread_parent_frames\n",
      "    def _clean_thread_parent_frames(\n",
      "\n",
      "KeyboardInterrupt: \n"
     ]
    }
   ],
   "source": [
    "d_error = []\n",
    "g_error = []\n",
    "t_error = []\n",
    "fk_prog = []\n",
    "\n",
    "# wandb.init(\n",
    "#     project='InfoQGAN',\n",
    "#     group='InfoQGAN',\n",
    "#     config = {\n",
    "#         \"Generator Architecture\": str(dict(net_G.named_modules())),\n",
    "#         \"Discriminator Architecture\": str(dict(net_D.named_modules())),\n",
    "#         \"T Architecture\": str(dict(net_T.named_modules())),\n",
    "#         \"Batch Size\": batch_size\n",
    "#     }\n",
    "# )\n",
    "\n",
    "for _ in range(300):\n",
    "    for batch in dataloader:\n",
    "        # First Update Discriminator with batch of Real Data\n",
    "        d_loss = net_D.fit_discriminator(batch, criterion, net_G, optimizer_D, noise_size+code_size)\n",
    "        g_loss = net_G.fit_generator(net_D, net_T, batch_size, noise_size+code_size, criterion, optimizer_G, code_size, beta)\n",
    "        t_loss = net_T.fit_t(net_G, batch_size, noise_size+code_size, code_size, optimizer_T)\n",
    "\n",
    "        d_error.append(d_loss)\n",
    "        g_error.append(g_loss)\n",
    "        t_error.append(t_loss)\n",
    "    # print(\"Epoch: \", _)\n",
    "        # wandb.log({\"d_loss\": d_loss, \"g_loss\": g_loss, \"t_loss\": t_loss})\n",
    "    \n",
    "    # with torch.no_grad():\n",
    "    #     fake = net_G(fixed_noise)\n",
    "    #     fk_prog.append(fake)\n",
    "    #     print(fake)\n",
    "\n",
    "    #     acc = boundary_adherence(fake.detach().numpy())\n",
    "    #     P, D = ndtest.ks2d2s(x, y, fake[:, 0].detach().numpy(), fake[:, 1].detach().numpy(), extra=True)\n",
    "    #     # if P > best_p_value:\n",
    "    #     #     best_p_value = P\n",
    "    #     #     torch.save(net_G.state_dict(), './models/pval{P}.pth')\n",
    "    #     # wandb.log({\"Accuracy\": acc, \"KS Test p-value\": P, \"KS Test value\": D})\n",
    "    #     x_c1 = np.cov(fake[:, 0].detach().numpy(), fixed_noise[:, 0])[0][1]\n",
    "    #     x_c2 = np.cov(fake[:, 0].detach().numpy(), fixed_noise[:, 1])[0][1]\n",
    "    #     y_c1 = np.cov(fake[:, 1].detach().numpy(), fixed_noise[:, 0])[0][1]\n",
    "    #     y_c2 = np.cov(fake[:, 1].detach().numpy(), fixed_noise[:, 1])[0][1]\n",
    "        # wandb.log({\"Code 0 - X axis\": x_c1, \"Code 1 - X axis\": x_c2, \"Code 0 - Y axis\": y_c1, \"Code 1 - Y axis\": y_c2,})\n",
    "        # print(P)\n",
    "\n",
    "    if _ % 5 == 0:\n",
    "        with torch.no_grad():\n",
    "            fake = net_G(fixed_noise)\n",
    "            clear_output(wait=True)\n",
    "            fig = plot_xy(fake[:, 0].detach().numpy(), fake[:, 1].detach().numpy())\n",
    "            # img = wandb.Image(fig)\n",
    "            # wandb.log({\"Generator Output\": img})\n",
    "\n",
    "# wandb.finish()"
   ]
  },
  {
   "cell_type": "code",
   "execution_count": 34,
   "metadata": {},
   "outputs": [
    {
     "data": {
      "text/html": [
       "<style>\n",
       "    table.wandb td:nth-child(1) { padding: 0 10px; text-align: left ; width: auto;} td:nth-child(2) {text-align: left ; width: 100%}\n",
       "    .wandb-row { display: flex; flex-direction: row; flex-wrap: wrap; justify-content: flex-start; width: 100% }\n",
       "    .wandb-col { display: flex; flex-direction: column; flex-basis: 100%; flex: 1; padding: 10px; }\n",
       "    </style>\n",
       "<div class=\"wandb-row\"><div class=\"wandb-col\"><h3>Run history:</h3><br/><table class=\"wandb\"><tr><td>Accuracy</td><td>▁▁▁▁▁▁▁▁</td></tr><tr><td>Code 0 - X axis</td><td>▁▁▁▁▁▁▁▁</td></tr><tr><td>Code 0 - Y axis</td><td>▁▁▁▁▁▁▁▁</td></tr><tr><td>Code 1 - X axis</td><td>▁▁▁▁▁▁▁▁</td></tr><tr><td>Code 1 - Y axis</td><td>▁▁▁▁▁▁▁▁</td></tr><tr><td>KS Test p-value</td><td>▁▁▁▁▁▁▁▁</td></tr><tr><td>KS Test value</td><td>▁▁▁▁▁▁▁▁</td></tr><tr><td>d_loss</td><td>█▇▇▇▆▆▆▆▅▅▅▅▅▅▅▅▄▅▅▅▄▅▄▄▃▄▅▄▄▅▄▃▅▂▂▃▄▃▅▁</td></tr><tr><td>g_loss</td><td>▁▂▂▃▄▄▅▅▅▆▆▇▇▇▇▇▇▇▇▇▇▇▇▇▇▇▇▇▇█▇▆▇▇▇██▇▇▇</td></tr><tr><td>t_loss</td><td>██████████████████▇▇▇▇▇▆▇█▇▇▆▅▆▅▆▆▆▅▇▃▁▅</td></tr></table><br/></div><div class=\"wandb-col\"><h3>Run summary:</h3><br/><table class=\"wandb\"><tr><td>Accuracy</td><td>82.0</td></tr><tr><td>Code 0 - X axis</td><td>0.0011</td></tr><tr><td>Code 0 - Y axis</td><td>-0.01882</td></tr><tr><td>Code 1 - X axis</td><td>-0.00441</td></tr><tr><td>Code 1 - Y axis</td><td>0.00251</td></tr><tr><td>KS Test p-value</td><td>0.0</td></tr><tr><td>KS Test value</td><td>0.607</td></tr><tr><td>d_loss</td><td>1.38043</td></tr><tr><td>g_loss</td><td>0.69062</td></tr><tr><td>t_loss</td><td>-0.16847</td></tr></table><br/></div></div>"
      ],
      "text/plain": [
       "<IPython.core.display.HTML object>"
      ]
     },
     "metadata": {},
     "output_type": "display_data"
    },
    {
     "data": {
      "text/html": [
       " View run <strong style=\"color:#cdcd00\">klingon-farpoint-48</strong> at: <a href='https://wandb.ai/jacksonfraser55/InfoQGAN/runs/c602jwbg' target=\"_blank\">https://wandb.ai/jacksonfraser55/InfoQGAN/runs/c602jwbg</a><br/> View project at: <a href='https://wandb.ai/jacksonfraser55/InfoQGAN' target=\"_blank\">https://wandb.ai/jacksonfraser55/InfoQGAN</a><br/>Synced 6 W&B file(s), 0 media file(s), 0 artifact file(s) and 0 other file(s)"
      ],
      "text/plain": [
       "<IPython.core.display.HTML object>"
      ]
     },
     "metadata": {},
     "output_type": "display_data"
    },
    {
     "data": {
      "text/html": [
       "Find logs at: <code>./wandb/run-20240405_111054-c602jwbg/logs</code>"
      ],
      "text/plain": [
       "<IPython.core.display.HTML object>"
      ]
     },
     "metadata": {},
     "output_type": "display_data"
    }
   ],
   "source": [
    "wandb.finish()"
   ]
  },
  {
   "cell_type": "code",
   "execution_count": 26,
   "metadata": {},
   "outputs": [
    {
     "name": "stderr",
     "output_type": "stream",
     "text": [
      "WARNING - No artists with labels found to put in legend.  Note that artists whose label start with an underscore are ignored when legend() is called with no argument.\n"
     ]
    },
    {
     "data": {
      "image/png": "[encoded data removed]",
      "text/plain": [
       "<Figure size 400x400 with 2 Axes>"
      ]
     },
     "metadata": {},
     "output_type": "display_data"
    }
   ],
   "source": [
    "rand_inp = torch.rand((1000, noise_size+code_size))\n",
    "gen_output = net_G(rand_inp)\n",
    "\n",
    "x_test = gen_output[:, 0].detach().numpy()\n",
    "y_test = gen_output[:, 1].detach().numpy()\n",
    "\n",
    "# Plot test data\n",
    "def plot_xy_codes(x_pts, y_pts, code_index):\n",
    "    plt.figure(figsize=(4, 4))\n",
    "    plt.scatter(x_pts, y_pts, c=rand_inp[:, code_index], cmap='coolwarm', alpha=1, s=10)\n",
    "    plt.xlim(0, 1)\n",
    "    plt.ylim(0, 1)\n",
    "    plt.xlabel('x')\n",
    "    plt.ylabel('y')\n",
    "    plt.title(f\"Feature Seperation for Code {code_index}\")\n",
    "    plt.gca().set_aspect('equal', adjustable='box')  # Make the plot square\n",
    "    plt.legend()\n",
    "    plt.colorbar(label='Code Value')\n",
    "    plt.show()\n",
    "\n",
    "plot_xy_codes(gen_output[:, 0].detach().numpy(), gen_output[:, 1].detach().numpy(), 1)"
   ]
  },
  {
   "cell_type": "code",
   "execution_count": 14,
   "metadata": {},
   "outputs": [
    {
     "data": {
      "text/plain": [
       "tensor([[0.4075, 0.4241],\n",
       "        [0.4075, 0.4241],\n",
       "        [0.4075, 0.4241],\n",
       "        ...,\n",
       "        [0.4075, 0.4241],\n",
       "        [0.4075, 0.4241],\n",
       "        [0.4075, 0.4241]])"
      ]
     },
     "execution_count": 14,
     "metadata": {},
     "output_type": "execute_result"
    }
   ],
   "source": [
    "gen_output"
   ]
  },
  {
   "cell_type": "code",
   "execution_count": 13,
   "metadata": {},
   "outputs": [
    {
     "data": {
      "text/plain": [
       "tensor([[0.4354, 0.3842]])"
      ]
     },
     "execution_count": 13,
     "metadata": {},
     "output_type": "execute_result"
    }
   ],
   "source": [
    "net_G(torch.tensor([[0.5,0.5,0.5,0.5,0.5]]))"
   ]
  },
  {
   "cell_type": "code",
   "execution_count": 15,
   "metadata": {},
   "outputs": [
    {
     "data": {
      "text/plain": [
       "tensor([0.5000, 0.5000, 0.5000, 0.5000, 0.5000])"
      ]
     },
     "execution_count": 15,
     "metadata": {},
     "output_type": "execute_result"
    }
   ],
   "source": [
    "torch.tensor([[0.5,0.5,0.5,0.5,0.5]])[0, :]"
   ]
  },
  {
   "cell_type": "code",
   "execution_count": null,
   "metadata": {},
   "outputs": [],
   "source": [
    "plot_xy_codes(gen_output[:, 0].detach().numpy(), gen_output[:, 1].detach().numpy(), 1)"
   ]
  },
  {
   "cell_type": "code",
   "execution_count": null,
   "metadata": {},
   "outputs": [],
   "source": [
    "torch.save(net_G.state_dict(), './models/captain-cube-35.pth')"
   ]
  }
 ],
 "metadata": {
  "kernelspec": {
   "display_name": "cpen400qproject",
   "language": "python",
   "name": "python3"
  },
  "language_info": {
   "codemirror_mode": {
    "name": "ipython",
    "version": 3
   },
   "file_extension": ".py",
   "mimetype": "text/x-python",
   "name": "python",
   "nbconvert_exporter": "python",
   "pygments_lexer": "ipython3",
   "version": "3.11.8"
  }
 },
 "nbformat": 4,
 "nbformat_minor": 2
}
